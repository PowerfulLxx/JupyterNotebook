{
  "nbformat": 4,
  "nbformat_minor": 0,
  "metadata": {
    "colab": {
      "provenance": [],
      "mount_file_id": "1RZVp9awHztN70sTKMk_3a6HUuDxw8kUG",
      "authorship_tag": "ABX9TyOR/xUgJ3GL8cgAGgT9ncLd",
      "include_colab_link": true
    },
    "kernelspec": {
      "name": "python3",
      "display_name": "Python 3"
    },
    "language_info": {
      "name": "python"
    }
  },
  "cells": [
    {
      "cell_type": "markdown",
      "metadata": {
        "id": "view-in-github",
        "colab_type": "text"
      },
      "source": [
        "<a href=\"https://colab.research.google.com/github/PowerfulLxx/JupyterNotebook/blob/main/pandas_age.ipynb\" target=\"_parent\"><img src=\"https://colab.research.google.com/assets/colab-badge.svg\" alt=\"Open In Colab\"/></a>"
      ]
    },
    {
      "cell_type": "code",
      "execution_count": 1,
      "metadata": {
        "id": "O_KGm0EsjX20"
      },
      "outputs": [],
      "source": [
        "import pandas as pd"
      ]
    },
    {
      "cell_type": "code",
      "source": [
        "strokeData = pd.read_excel(\"healthcare-dataset-stroke.xlsx\")\n",
        "age_absData = pd.read_excel(\"healthcare-dataset-age_abs(1).xlsx\")"
      ],
      "metadata": {
        "id": "zX0JvKGLjapz"
      },
      "execution_count": 4,
      "outputs": []
    },
    {
      "cell_type": "code",
      "source": [
        "print(strokeData)\n",
        "print(age_absData)"
      ],
      "metadata": {
        "colab": {
          "base_uri": "https://localhost:8080/"
        },
        "id": "mZYXS-LNkCA-",
        "outputId": "ac862d2f-171c-431f-e5a0-0e6de03011ca"
      },
      "execution_count": 5,
      "outputs": [
        {
          "output_type": "stream",
          "name": "stdout",
          "text": [
            "         编号 性别 高血压 是否结婚  工作类型 居住类型  体重指数   吸烟史 中风\n",
            "0      9046  男   否    是    私人   城市  36.6  以前吸烟  是\n",
            "1     51676  女   否    是  私营企业   农村   NaN  从不吸烟  是\n",
            "2     31112  男   否    是    私人   农村  32.5  从不吸烟  是\n",
            "3     60182  女   否    是    私人   城市  34.4    抽烟  是\n",
            "4      1665  女   是    是  私营企业   农村  24.0  从不吸烟  是\n",
            "...     ... ..  ..  ...   ...  ...   ...   ... ..\n",
            "1762  38578  女   否    否    私人   城市  25.4    未知  否\n",
            "1763  66502  男   否    否    私人   农村  32.2  从不吸烟  否\n",
            "1764  50978  女   否    是  政府工作   城市  39.8    未知  否\n",
            "1765   9034  男   否    否    学生   城市  18.6    未知  否\n",
            "1766  16582  男   否    是    私人   农村  30.7    抽烟  否\n",
            "\n",
            "[1767 rows x 9 columns]\n",
            "         编号    年龄    平均血糖\n",
            "0      9046  67.0  228.69\n",
            "1     51676  61.0  202.21\n",
            "2     31112  80.0  105.92\n",
            "3     60182  49.0  171.23\n",
            "4      1665  79.0  174.12\n",
            "...     ...   ...     ...\n",
            "1762  38578  35.0   71.81\n",
            "1763  66502  16.0  111.93\n",
            "1764  50978  31.0   94.40\n",
            "1765   9034   5.0   70.00\n",
            "1766  16582  26.0   95.57\n",
            "\n",
            "[1767 rows x 3 columns]\n"
          ]
        }
      ]
    },
    {
      "cell_type": "code",
      "source": [
        "data = pd.merge(strokeData,age_absData,on='编号',how='outer')"
      ],
      "metadata": {
        "id": "9ZfD_MiRkFvx"
      },
      "execution_count": 17,
      "outputs": []
    },
    {
      "cell_type": "code",
      "source": [
        "print(data)"
      ],
      "metadata": {
        "colab": {
          "base_uri": "https://localhost:8080/"
        },
        "id": "YBmGTE5ik_T2",
        "outputId": "e413414b-454b-412b-80fd-6ba74cd6fb0c"
      },
      "execution_count": 18,
      "outputs": [
        {
          "output_type": "stream",
          "name": "stdout",
          "text": [
            "         编号 性别 高血压 是否结婚  工作类型 居住类型  体重指数   吸烟史 中风    年龄    平均血糖\n",
            "0      9046  男   否    是    私人   城市  36.6  以前吸烟  是  67.0  228.69\n",
            "1     51676  女   否    是  私营企业   农村   NaN  从不吸烟  是  61.0  202.21\n",
            "2     31112  男   否    是    私人   农村  32.5  从不吸烟  是  80.0  105.92\n",
            "3     60182  女   否    是    私人   城市  34.4    抽烟  是  49.0  171.23\n",
            "4      1665  女   是    是  私营企业   农村  24.0  从不吸烟  是  79.0  174.12\n",
            "...     ... ..  ..  ...   ...  ...   ...   ... ..   ...     ...\n",
            "1762  38578  女   否    否    私人   城市  25.4    未知  否  35.0   71.81\n",
            "1763  66502  男   否    否    私人   农村  32.2  从不吸烟  否  16.0  111.93\n",
            "1764  50978  女   否    是  政府工作   城市  39.8    未知  否  31.0   94.40\n",
            "1765   9034  男   否    否    学生   城市  18.6    未知  否   5.0   70.00\n",
            "1766  16582  男   否    是    私人   农村  30.7    抽烟  否  26.0   95.57\n",
            "\n",
            "[1767 rows x 11 columns]\n"
          ]
        }
      ]
    },
    {
      "cell_type": "code",
      "source": [
        "for index, row in data.iterrows():\n",
        "  value = row[\"年龄\"]\n",
        "  if isinstance(value, float) and value%1 != 0:\n",
        "    print(value)\n",
        "    data.drop(index,inplace=True)"
      ],
      "metadata": {
        "colab": {
          "base_uri": "https://localhost:8080/"
        },
        "id": "uTkun_JPlAkS",
        "outputId": "57c8143f-d480-42b4-ac57-f114b124f7e5"
      },
      "execution_count": 19,
      "outputs": [
        {
          "output_type": "stream",
          "name": "stdout",
          "text": [
            "1.32\n",
            "0.64\n",
            "0.88\n",
            "1.8\n",
            "0.32\n",
            "1.08\n",
            "1.8\n",
            "1.8\n",
            "1.16\n",
            "1.4\n",
            "1.72\n",
            "0.88\n",
            "1.4\n",
            "0.24\n",
            "0.32\n",
            "1.64\n",
            "1.56\n",
            "1.72\n",
            "0.72\n",
            "1.88\n",
            "1.24\n",
            "0.8\n",
            "1.08\n",
            "1.88\n",
            "1.24\n",
            "0.4\n",
            "1.24\n",
            "0.08\n",
            "1.48\n",
            "1.72\n"
          ]
        }
      ]
    },
    {
      "cell_type": "code",
      "source": [
        "data.reset_index(drop=True,inplace=True)\n",
        "print(data)"
      ],
      "metadata": {
        "colab": {
          "base_uri": "https://localhost:8080/"
        },
        "id": "FhYfnw_-mq_c",
        "outputId": "ab78c917-aa43-4391-e615-fa856927f420"
      },
      "execution_count": 21,
      "outputs": [
        {
          "output_type": "stream",
          "name": "stdout",
          "text": [
            "         编号 性别 高血压 是否结婚  工作类型 居住类型  体重指数   吸烟史 中风    年龄    平均血糖\n",
            "0      9046  男   否    是    私人   城市  36.6  以前吸烟  是  67.0  228.69\n",
            "1     51676  女   否    是  私营企业   农村   NaN  从不吸烟  是  61.0  202.21\n",
            "2     31112  男   否    是    私人   农村  32.5  从不吸烟  是  80.0  105.92\n",
            "3     60182  女   否    是    私人   城市  34.4    抽烟  是  49.0  171.23\n",
            "4      1665  女   是    是  私营企业   农村  24.0  从不吸烟  是  79.0  174.12\n",
            "...     ... ..  ..  ...   ...  ...   ...   ... ..   ...     ...\n",
            "1732  38578  女   否    否    私人   城市  25.4    未知  否  35.0   71.81\n",
            "1733  66502  男   否    否    私人   农村  32.2  从不吸烟  否  16.0  111.93\n",
            "1734  50978  女   否    是  政府工作   城市  39.8    未知  否  31.0   94.40\n",
            "1735   9034  男   否    否    学生   城市  18.6    未知  否   5.0   70.00\n",
            "1736  16582  男   否    是    私人   农村  30.7    抽烟  否  26.0   95.57\n",
            "\n",
            "[1737 rows x 11 columns]\n"
          ]
        }
      ]
    },
    {
      "cell_type": "code",
      "source": [
        "n_bins = 100\n",
        "data['年龄' + '_bin'] = pd.cut(data['年龄'], bins=[0,10,20,30,40,50,60,70,80,90])\n",
        "print(data) "
      ],
      "metadata": {
        "colab": {
          "base_uri": "https://localhost:8080/"
        },
        "id": "cy6oeeiPmsEt",
        "outputId": "5f81252b-1adc-4633-ff88-53c269785523"
      },
      "execution_count": 25,
      "outputs": [
        {
          "output_type": "stream",
          "name": "stdout",
          "text": [
            "         编号 性别 高血压 是否结婚  工作类型 居住类型  体重指数   吸烟史 中风    年龄    平均血糖    年龄_bin\n",
            "0      9046  男   否    是    私人   城市  36.6  以前吸烟  是  67.0  228.69  (60, 70]\n",
            "1     51676  女   否    是  私营企业   农村   NaN  从不吸烟  是  61.0  202.21  (60, 70]\n",
            "2     31112  男   否    是    私人   农村  32.5  从不吸烟  是  80.0  105.92  (70, 80]\n",
            "3     60182  女   否    是    私人   城市  34.4    抽烟  是  49.0  171.23  (40, 50]\n",
            "4      1665  女   是    是  私营企业   农村  24.0  从不吸烟  是  79.0  174.12  (70, 80]\n",
            "...     ... ..  ..  ...   ...  ...   ...   ... ..   ...     ...       ...\n",
            "1732  38578  女   否    否    私人   城市  25.4    未知  否  35.0   71.81  (30, 40]\n",
            "1733  66502  男   否    否    私人   农村  32.2  从不吸烟  否  16.0  111.93  (10, 20]\n",
            "1734  50978  女   否    是  政府工作   城市  39.8    未知  否  31.0   94.40  (30, 40]\n",
            "1735   9034  男   否    否    学生   城市  18.6    未知  否   5.0   70.00   (0, 10]\n",
            "1736  16582  男   否    是    私人   农村  30.7    抽烟  否  26.0   95.57  (20, 30]\n",
            "\n",
            "[1737 rows x 12 columns]\n"
          ]
        }
      ]
    },
    {
      "cell_type": "code",
      "source": [],
      "metadata": {
        "id": "HLSpFNYNprgj"
      },
      "execution_count": null,
      "outputs": []
    }
  ]
}